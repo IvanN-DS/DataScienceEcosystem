{
  "metadata": {
    "kernelspec": {
      "name": "python",
      "display_name": "Python (Pyodide)",
      "language": "python"
    },
    "language_info": {
      "codemirror_mode": {
        "name": "python",
        "version": 3
      },
      "file_extension": ".py",
      "mimetype": "text/x-python",
      "name": "python",
      "nbconvert_exporter": "python",
      "pygments_lexer": "ipython3",
      "version": "3.8"
    }
  },
  "nbformat_minor": 4,
  "nbformat": 4,
  "cells": [
    {
      "cell_type": "markdown",
      "source": "**Exercise 1: Create a Jupyter Notebook** -",
      "metadata": {}
    },
    {
      "cell_type": "markdown",
      "source": "**Exercise 2: Create markdown cell with title of the notebook**:",
      "metadata": {}
    },
    {
      "cell_type": "markdown",
      "source": "# Data Science Tools and Ecosystem",
      "metadata": {}
    },
    {
      "cell_type": "markdown",
      "source": "**Exercise 3 - Create a markdown cell for an introduction**:",
      "metadata": {}
    },
    {
      "cell_type": "markdown",
      "source": "In this notebook, Data Science Tools and Ecosystem are summarized.",
      "metadata": {}
    },
    {
      "cell_type": "markdown",
      "source": "**Exercise 10 - Insert a markdown cell to list Objectives**:",
      "metadata": {}
    },
    {
      "cell_type": "markdown",
      "source": "**Objectives:**\n\n- List popular programming languages used for Data Science.\n- Understand the basics of arithmetic expressions in Python.\n- Commonly used libraries used by Data Scientists.\n- Learn how to use code cells for tasks.\n- Learn how to use Markdown cells to enhance documentation in Jupyter Notebooks.\n",
      "metadata": {}
    },
    {
      "cell_type": "markdown",
      "source": "**Exercise 4 - Create a markdown cell to list data science languages**:",
      "metadata": {}
    },
    {
      "cell_type": "markdown",
      "source": "Some of the popular languages that Data Scientists use are:<b>\n1. Python\n2. R\n3. Julia\n4. Scala",
      "metadata": {}
    },
    {
      "cell_type": "markdown",
      "source": "**Exercise 5 - Create a markdown cell to list data science libraries**:",
      "metadata": {}
    },
    {
      "cell_type": "markdown",
      "source": "Some of the commonly used libraries used by Data Scientists include:<br>\n1. Pandas\n2. NumPy\n3. Matplotlib\n4. Keras\n5. PyTorch\n6. Tensorflow\n7. SciPy\n8. Seaborn\n9. Scikit-learn",
      "metadata": {}
    },
    {
      "cell_type": "markdown",
      "source": "**Exercise 6 - Create a markdown cell with a table of Data Science tools**:",
      "metadata": {}
    },
    {
      "cell_type": "markdown",
      "source": "| Data Science Tools |\n| -------------|\n| Jupyter Notebook |\n| Rstudio |\n| Visual Studio Code |",
      "metadata": {}
    },
    {
      "cell_type": "markdown",
      "source": "**Exercise 7 - Create a markdown cell introducing arithmetic expression examples**:",
      "metadata": {}
    },
    {
      "cell_type": "markdown",
      "source": "### Below are a few examples of evaluating arithmetic expressions in Python",
      "metadata": {}
    },
    {
      "cell_type": "markdown",
      "source": "**Addition**:<br>\nresult_addition = 5 + 4<br>\nprint(result_addition)\n\n**Subtraction**:<br>\nresult_subtraction = 14 - 4<br>\nprint(result_subtraction)\n\n**Multiplication**:<br>\nresult_multiplication = 8 * 2<br>\nprint(result_multiplication)\n\n**Division**:<br>\nresult_division = 11 / 3<br>\nprint(result_division)\n\n",
      "metadata": {}
    },
    {
      "cell_type": "markdown",
      "source": "**Exercise 8 - Create a code cell to multiply and add numbers**:",
      "metadata": {}
    },
    {
      "cell_type": "code",
      "source": "# This is a simple arithmetic expression to multiply then add integers\nresult = (3 * 4) + 5\nprint(\"The result of the expression (3 * 4) + 5 is:\", result)",
      "metadata": {
        "trusted": true
      },
      "outputs": [
        {
          "name": "stdout",
          "text": "The result of the expression (3 * 4) + 5 is: 17\n",
          "output_type": "stream"
        }
      ],
      "execution_count": 3
    },
    {
      "cell_type": "markdown",
      "source": "**Exercise 9 - Create a code cell to convert minutes to hours**:",
      "metadata": {}
    },
    {
      "cell_type": "code",
      "source": "# This will convert 200 minutes to hours by dividing by 60\nhours = 200 / 60\nprint(\"200 minutes is equal to\", hours, \"hours\")",
      "metadata": {
        "trusted": true
      },
      "outputs": [
        {
          "name": "stdout",
          "text": "200 minutes is equal to 3.3333333333333335 hours\n",
          "output_type": "stream"
        }
      ],
      "execution_count": 4
    },
    {
      "cell_type": "markdown",
      "source": "**Exercise 11 - Create a markdown cell to indicate the Author's name**:",
      "metadata": {}
    },
    {
      "cell_type": "markdown",
      "source": "## Author  \nIvan Nedev",
      "metadata": {}
    }
  ]
}